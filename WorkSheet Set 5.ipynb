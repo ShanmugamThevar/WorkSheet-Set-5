{
 "cells": [
  {
   "cell_type": "markdown",
   "metadata": {},
   "source": [
    "# Machine Learning"
   ]
  },
  {
   "cell_type": "markdown",
   "metadata": {},
   "source": [
    "1. R-squared or Residual Sum of Squares (RSS) which one of these two is a better measure of \n",
    "goodness of fit model in regression and why?\n",
    "\n",
    "Ans. Residual Sum of Squares (RSS) is a better measure to fit model in regression. The R-squared statistic isn’t perfect. Its value never decreases no matter the number of variables we add to our regression model. That is, even if we are adding redundant variables to the data, the value of R-squared does not decrease. It either remains the same or increases with the addition of new independent variables. This clearly does not make sense because some of the independent variables might not be useful in determining the target variable. Residual Sum of Squares (RSS) deals with this issue."
   ]
  },
  {
   "cell_type": "markdown",
   "metadata": {},
   "source": [
    "2. What are TSS (Total Sum of Squares), ESS (Explained Sum of Squares) and RSS (Residual Sum \n",
    "of Squares) in regression. Also mention the equation relating these three metrics with each other.\n",
    "\n",
    "Ans.The Explained Sum of Squares (ESS) measures how much variation there is in the modelled values. \n",
    "\n",
    "The Total Sum of Squares (TSS) measures how much variation there is in the observed data. \n",
    "\n",
    "The Residual Sum of Squares (RSS) measures the variation in the error between the observed data and modelled values.\n",
    "\n",
    "Related Equation: TSS = ESS + RSS.\n"
   ]
  },
  {
   "cell_type": "markdown",
   "metadata": {},
   "source": [
    "3. What is the need of regularization in machine learning? \n",
    "\n",
    "Ans. Regularization reduces the variance of the model, without substantial increase in its bias. The tuning parameter λ, used in the regularization techniques, controls the impact on bias and variance. As the value of λ rises, it reduces the value of coefficients and thus reducing the variance. This increase in λ is beneficial as it is only reducing the variance, without loosing any important properties in the data."
   ]
  },
  {
   "cell_type": "markdown",
   "metadata": {},
   "source": [
    "4. What is Gini–impurity index? \n",
    "\n",
    "Ans. Gini impurity index measures the degree or probability of a particular variable being wrongly classified when it is randomly chosen. It is based on the concept of entropy, which is the degree of impurity or uncertainty. It aims to decrease the level of entropy from the root nodes to the leaf nodes of the decision tree. "
   ]
  },
  {
   "cell_type": "markdown",
   "metadata": {},
   "source": [
    "5. Are unregularized decision-trees prone to overfitting? If yes, why?\n",
    "\n",
    "Ans. Yes, unregularized decision trees tend to overfit since at each node, it will make the decision among a subset of all the columns, so when it reaches a final decision, it is a complicated and long decision chain."
   ]
  },
  {
   "cell_type": "markdown",
   "metadata": {},
   "source": [
    "6. What is an ensemble technique in machine learning?\n",
    "\n",
    "Ans. Ensemble technique in machine learning combines several base models in order to produce one optimal predictive model. It produces more accurate solutions than a single model would. "
   ]
  },
  {
   "cell_type": "markdown",
   "metadata": {},
   "source": [
    "7. What is the difference between Bagging and Boosting techniques? \n",
    "\n",
    "Ans. Bagging technique can be an effective approach to reduce the variance of a model, to prevent over-fitting and to increase the accuracy of unstable models. On the other hand, Boosting enables us to implement a strong model by combining a number of weak models together."
   ]
  },
  {
   "cell_type": "markdown",
   "metadata": {},
   "source": [
    "8. What is out-of-bag error in random forests? \n",
    "\n",
    "Ans. Out-of-bag (OOB) error is a method of measuring the prediction error of random forests. OOB error is the mean prediction error on each training sample, using only the trees that did not have in their bootstrap sample. the number of iterations (trees) of the model (forest) should be considered to find the true OOB error. The OOB error will stabilize over many iterations so starting with a high number of iterations is a good idea."
   ]
  },
  {
   "cell_type": "markdown",
   "metadata": {},
   "source": [
    "9. What is K-fold cross-validation?\n",
    "\n",
    "Ans. Cross-validation is a resampling procedure used to evaluate machine learning models on a limited data sample. The procedure has a single parameter called k that refers to the number of groups that a given data sample is to be split into. The procedure is often called k-fold cross-validation."
   ]
  },
  {
   "cell_type": "markdown",
   "metadata": {},
   "source": [
    "10. What is hyper parameter tuning in machine learning and why it is done? \n",
    "\n",
    "Ans. Hyperparameter tuning is the problem of choosing a set of optimal hyperparameters for a learning algorithm. A hyperparameter is a parameter whose value is used to control the learning process. This can be particularly important when comparing how different machine learning models are performing on a dataset. "
   ]
  },
  {
   "cell_type": "markdown",
   "metadata": {},
   "source": [
    "11. What issues can occur if we have a large learning rate in Gradient Descent? \n",
    "\n",
    "Ans. Gradient descent is a first-order iterative optimization algorithm for finding a local minimum of a differentiable function. A learning rate that is too small may never converge or may get stuck on a suboptimal solution. When the learning rate is too large, gradient descent can inadvertently increase rather than decrease the training error."
   ]
  },
  {
   "cell_type": "markdown",
   "metadata": {},
   "source": [
    "12. Can we use Logistic Regression for classification of Non-Linear Data? If not, why?\n",
    "\n",
    "Ans. Logistic regression is used as a linear classifier. It is used to come up with a hyper plane in feature space to separate observations that belong to a class from all the other observations that do not belong to that class. The decision boundary is thus linear."
   ]
  },
  {
   "cell_type": "markdown",
   "metadata": {},
   "source": [
    "13. Differentiate between Adaboost and Gradient Boosting.\n",
    "\n",
    "Ans. AdaBoost algorithm is designed with a particular loss function. On the other hand, Gradient Boosting is a generic algorithm that assists in searching the approximate solutions to the additive modelling problem. This makes Gradient Boosting more flexible than AdaBoost. AdaBoost can be used for binary classification problems whereas Gradient Boosting can be used for both regression and classification problems."
   ]
  },
  {
   "cell_type": "markdown",
   "metadata": {},
   "source": [
    "14. What is bias-variance trade off in machine learning?\n",
    "\n",
    "Ans. Bias is the simplifying assumptions made by the model to make the target function easier to approximate.\n",
    "\n",
    "Variance is the amount that the estimate of the target function will change given different training data.\n",
    "\n",
    "Trade-off is tension between the error introduced by the bias and the variance."
   ]
  },
  {
   "cell_type": "markdown",
   "metadata": {},
   "source": [
    "15. Give short description each of Linear, RBF, Polynomial kernels used in SVM.\n",
    "\n",
    "Ans. The kernel functions are used as parameters in the SVM codes. They help to determine the shape of the hyperplane and decision boundary. The value of the kernel parameter in the SVM code.\n",
    "\n",
    "a) Polynomial Kernel Function: The polynomial kernel is a general representation of kernels with a degree of more than one. It’s useful for image processing.\n",
    "\n",
    "There are two types of this: Homogenous Polynomial Kernel Function and Inhomogeneous Polynomial Kernel Function.\n",
    "    \n",
    "b) RBF Kernel Function: RBF is the radial basis function. This is used when there is no prior knowledge about the data.\n",
    "\n",
    "c) Linear Kernel Function: This kernel is one-dimensional and is the most basic form of kernel in SVM used for linearly separable data. \n",
    "    \n"
   ]
  },
  {
   "cell_type": "code",
   "execution_count": null,
   "metadata": {},
   "outputs": [],
   "source": []
  },
  {
   "cell_type": "code",
   "execution_count": null,
   "metadata": {},
   "outputs": [],
   "source": []
  },
  {
   "cell_type": "markdown",
   "metadata": {},
   "source": [
    "# Statistics"
   ]
  },
  {
   "cell_type": "markdown",
   "metadata": {},
   "source": [
    "1. Using a goodness of fit,we can assess whether a set of obtained frequencies differ from a set of frequencies.\n",
    "\n",
    "Ans. d) Expected"
   ]
  },
  {
   "cell_type": "markdown",
   "metadata": {},
   "source": [
    "2. Chisquare is used to analyse\n",
    "\n",
    "Ans. c) Frequencies"
   ]
  },
  {
   "cell_type": "markdown",
   "metadata": {},
   "source": [
    "3. What is the mean of a Chi Square distribution with 6 degrees of freedom?\n",
    "\n",
    "Ans. c) 6"
   ]
  },
  {
   "cell_type": "markdown",
   "metadata": {},
   "source": [
    "4. Which of these distributions is used for a goodness of fit testing?\n",
    "\n",
    "Ans. b) Chisqared distribution"
   ]
  },
  {
   "cell_type": "markdown",
   "metadata": {},
   "source": [
    "5. Which of the following distributions is Continuous\n",
    "\n",
    "Ans. c) F Distribution"
   ]
  },
  {
   "cell_type": "markdown",
   "metadata": {},
   "source": [
    "6. A statement made about a population for testing purpose is called?\n",
    "\n",
    "Ans. b) Hypothesis"
   ]
  },
  {
   "cell_type": "markdown",
   "metadata": {},
   "source": [
    "7. If the assumed hypothesis is tested for rejection considering it to be true is called?\n",
    "\n",
    "Ans. a) Null Hypothesis"
   ]
  },
  {
   "cell_type": "markdown",
   "metadata": {},
   "source": [
    "8. If the Critical region is evenly distributed then the test is referred as?\n",
    "\n",
    "Ans. a) Two tailed"
   ]
  },
  {
   "cell_type": "markdown",
   "metadata": {},
   "source": [
    "9. Alternative Hypothesis is also called as?\n",
    "\n",
    "Ans. b) Research Hypothesis"
   ]
  },
  {
   "cell_type": "markdown",
   "metadata": {},
   "source": [
    "10. In a Binomial Distribution, if ‘n’ is the number of trials and ‘p’ is the probability of success, then the mean value is \n",
    "given by\n",
    "\n",
    "Ans. a) np"
   ]
  },
  {
   "cell_type": "code",
   "execution_count": null,
   "metadata": {},
   "outputs": [],
   "source": []
  },
  {
   "cell_type": "code",
   "execution_count": null,
   "metadata": {},
   "outputs": [],
   "source": []
  },
  {
   "cell_type": "markdown",
   "metadata": {},
   "source": [
    "# SQL"
   ]
  },
  {
   "cell_type": "markdown",
   "metadata": {},
   "source": [
    "1. Write SQL query to show all the data in the Movie table.\n",
    "\n",
    "Ans. select * from movie;"
   ]
  },
  {
   "cell_type": "markdown",
   "metadata": {},
   "source": [
    "2. Write SQL query to show the title of the longest runtime movie.\n",
    "\n",
    "Ans. select * title from movie where max(runtime);"
   ]
  },
  {
   "cell_type": "markdown",
   "metadata": {},
   "source": [
    "3. Write SQL query to show the highest revenue generating movie title.\n",
    "\n",
    "Ans. select * title from movie where max(revenue);"
   ]
  },
  {
   "cell_type": "code",
   "execution_count": null,
   "metadata": {},
   "outputs": [],
   "source": [
    "4. Write SQL query to show the movie title with maximum value of revenue/budget.\n",
    "\n",
    "Ans. "
   ]
  },
  {
   "cell_type": "code",
   "execution_count": null,
   "metadata": {},
   "outputs": [],
   "source": [
    "5. Write a SQL query to show the movie title and its cast details like name of the person, gender, character \n",
    "name, cast order.\n",
    "\n",
    "Ans. "
   ]
  },
  {
   "cell_type": "code",
   "execution_count": null,
   "metadata": {},
   "outputs": [],
   "source": [
    "6. Write a SQL query to show the country name where maximum number of movies has been produced, along \n",
    "with the number of movies produced.\n",
    "\n",
    "Ans. "
   ]
  },
  {
   "cell_type": "code",
   "execution_count": null,
   "metadata": {},
   "outputs": [],
   "source": [
    "7. Write a SQL query to show all the genre_id in one column and genre_name in second column.\n",
    "\n",
    "Ans. "
   ]
  },
  {
   "cell_type": "code",
   "execution_count": null,
   "metadata": {},
   "outputs": [],
   "source": [
    "8. Write a SQL query to show name of all the languages in one column and number of movies in that \n",
    "particular column in another column. \n",
    "\n",
    "Ans. "
   ]
  },
  {
   "cell_type": "code",
   "execution_count": null,
   "metadata": {},
   "outputs": [],
   "source": [
    "9. Write a SQL query to show movie name in first column, no. of crew members in second column and \n",
    "number of cast members in third column.\n",
    "\n",
    "Ans. "
   ]
  },
  {
   "cell_type": "code",
   "execution_count": null,
   "metadata": {},
   "outputs": [],
   "source": [
    "10. Write a SQL query to list top 10 movies title according to popularity column in decreasing order.\n",
    "\n",
    "Ans. "
   ]
  },
  {
   "cell_type": "code",
   "execution_count": null,
   "metadata": {},
   "outputs": [],
   "source": [
    "11. Write a SQL query to show the name of the 3rd most revenue generating movie and its revenue.\n",
    "\n",
    "Ans. "
   ]
  },
  {
   "cell_type": "code",
   "execution_count": null,
   "metadata": {},
   "outputs": [],
   "source": [
    "12. Write a SQL query to show the names of all the movies which have “rumoured” movie status.\n",
    "\n",
    "Ans. "
   ]
  },
  {
   "cell_type": "code",
   "execution_count": null,
   "metadata": {},
   "outputs": [],
   "source": [
    "13. Write a SQL query to show the name of the “United States of America” produced movie which generated \n",
    "maximum revenue.\n",
    "\n",
    "Ans. "
   ]
  },
  {
   "cell_type": "code",
   "execution_count": null,
   "metadata": {},
   "outputs": [],
   "source": [
    "14. Write a SQL query to print the movie_id in one column and name of the production company in the second \n",
    "column for all the movies.\n",
    "\n",
    "Ans. "
   ]
  },
  {
   "cell_type": "code",
   "execution_count": null,
   "metadata": {},
   "outputs": [],
   "source": [
    "15. Write a SQL query to show the title of top 20 movies arranged in decreasing order of their budget.\n",
    "\n",
    "Ans. "
   ]
  },
  {
   "cell_type": "code",
   "execution_count": null,
   "metadata": {},
   "outputs": [],
   "source": []
  }
 ],
 "metadata": {
  "kernelspec": {
   "display_name": "Python 3",
   "language": "python",
   "name": "python3"
  },
  "language_info": {
   "codemirror_mode": {
    "name": "ipython",
    "version": 3
   },
   "file_extension": ".py",
   "mimetype": "text/x-python",
   "name": "python",
   "nbconvert_exporter": "python",
   "pygments_lexer": "ipython3",
   "version": "3.8.5"
  }
 },
 "nbformat": 4,
 "nbformat_minor": 4
}
